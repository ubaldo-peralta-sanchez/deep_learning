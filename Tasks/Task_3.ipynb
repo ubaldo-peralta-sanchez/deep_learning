{
 "cells": [
  {
   "cell_type": "markdown",
   "metadata": {
    "colab": {
     "autoexec": {
      "startup": false,
      "wait_interval": 0
     }
    },
    "colab_type": "code",
    "id": "0XoF085zfFay"
   },
   "source": [
    "### Text classification (30%)\n",
    "\n",
    "- Este ejercicio vale 3 puntos.\n",
    "- Efectuar un análisis completo de clasificación de texto de manera similar a la vista en clase.\n",
    "- Se evalúa la calidad del modelo así como la documentación adjunta.\n",
    "- La originalidad en el feature engineering no es necesaria, pero puntúa fuerte de haberla.\n",
    "- Se puede utilizar cualquier dataset de los adjuntos para la tarea 3, así como cualquier otro dataset que el alumno quiera salvo este: https://www.kaggle.com/lakshmi25npathi/imdb-dataset-of-50k-movie-reviews\n",
    "   \n",
    "   \n",
    " \n",
    "Datasets sugeridos:\n",
    "\n",
    "https://www.kaggle.com/shivamb/real-or-fake-fake-jobposting-prediction#fake_job_postings.csv\n",
    "\n",
    "https://www.kaggle.com/clmentbisaillon/fake-and-real-news-dataset#True.csv\n",
    "\n",
    "https://www.kaggle.com/auriml/eligibilityforcancerclinicaltrials\n",
    "\n",
    "https://www.kaggle.com/kashnitsky/news-about-major-cryptocurrencies-20132018-40k\n",
    "\n",
    "https://www.kaggle.com/pradeeptrical/text-tweet-classification\n",
    "\n",
    "https://www.kaggle.com/kazanova/sentiment140\n",
    "\n",
    "https://www.kaggle.com/eliasdabbas/european-football-soccer-clubs-tweets"
   ]
  },
  {
   "cell_type": "code",
   "execution_count": 22,
   "metadata": {},
   "outputs": [],
   "source": [
    "import pandas as pd\n",
    "import matplotlib.pyplot as plt"
   ]
  },
  {
   "cell_type": "code",
   "execution_count": 3,
   "metadata": {},
   "outputs": [],
   "source": [
    "filename = \"training_sentiment.csv\"\n",
    "df = pd.read_csv(filename , encoding = 'latin-1', delimiter = ',',usecols = [0, 1, 2, 3, 4, 5]\n",
    "                 , names = ['target','id', 'date', 'query', 'user', 'message'])"
   ]
  },
  {
   "cell_type": "code",
   "execution_count": 10,
   "metadata": {},
   "outputs": [
    {
     "data": {
      "text/plain": [
       "array([0, 1], dtype=int64)"
      ]
     },
     "execution_count": 10,
     "metadata": {},
     "output_type": "execute_result"
    }
   ],
   "source": [
    "# 0 -> negative\n",
    "# 4 -> positive\n",
    "df[\"target\"]=df[\"target\"].replace(4,1)\n",
    "df[\"target\"].unique()\n",
    "# 0 -> negative\n",
    "# 1 -> positive"
   ]
  },
  {
   "cell_type": "code",
   "execution_count": 32,
   "metadata": {},
   "outputs": [
    {
     "name": "stdout",
     "output_type": "stream",
     "text": [
      "1    800000\n",
      "0    800000\n",
      "Name: target, dtype: int64\n"
     ]
    },
    {
     "data": {
      "text/plain": [
       "<AxesSubplot:>"
      ]
     },
     "execution_count": 32,
     "metadata": {},
     "output_type": "execute_result"
    },
    {
     "data": {
      "image/png": "[encoded data removed]",
      "text/plain": [
       "<Figure size 432x288 with 1 Axes>"
      ]
     },
     "metadata": {
      "needs_background": "light"
     },
     "output_type": "display_data"
    }
   ],
   "source": [
    "print(df[\"target\"].value_counts())\n",
    "pd.value_counts(df[\"target\"]).plot.bar()"
   ]
  },
  {
   "cell_type": "code",
   "execution_count": 5,
   "metadata": {},
   "outputs": [],
   "source": [
    "import nltk\n",
    "nltk.download('stopwords')"
   ]
  }
 ],
 "metadata": {
  "colab": {
   "collapsed_sections": [],
   "default_view": {},
   "name": "house_pricing.ipynb",
   "provenance": [],
   "version": "0.3.2",
   "views": {}
  },
  "kernelspec": {
   "display_name": "Python 3",
   "language": "python",
   "name": "python3"
  },
  "language_info": {
   "codemirror_mode": {
    "name": "ipython",
    "version": 3
   },
   "file_extension": ".py",
   "mimetype": "text/x-python",
   "name": "python",
   "nbconvert_exporter": "python",
   "pygments_lexer": "ipython3",
   "version": "3.8.5"
  }
 },
 "nbformat": 4,
 "nbformat_minor": 1
}
