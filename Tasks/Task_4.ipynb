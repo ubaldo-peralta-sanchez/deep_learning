{
 "cells": [
  {
   "cell_type": "markdown",
   "metadata": {
    "colab": {
     "autoexec": {
      "startup": false,
      "wait_interval": 0
     }
    },
    "colab_type": "code",
    "id": "0XoF085zfFay"
   },
   "source": [
    "### NLP (10%)\n",
    "\n",
    "- Este ejercicio vale 1 punto.\n",
    "- Efectuar un entity recognition.\n",
    "- El out es un df col columnas [documento, entity_type1, entity_type2, entity_type3]\n",
    "- Las entidades pueden ser cuales quieran.\n",
    "- El df final será filtrado para no tener nulos en los campos de entidad.\n",
    "     \n",
    " \n",
    "Datasets sugeridos:\n",
    "\n",
    "https://www.kaggle.com/shivamb/real-or-fake-fake-jobposting-prediction#fake_job_postings.csv\n",
    "\n",
    "https://www.kaggle.com/clmentbisaillon/fake-and-real-news-dataset#True.csv\n",
    "\n",
    "https://www.kaggle.com/auriml/eligibilityforcancerclinicaltrials\n",
    "\n",
    "https://www.kaggle.com/kashnitsky/news-about-major-cryptocurrencies-20132018-40k\n",
    "\n",
    "https://www.kaggle.com/pradeeptrical/text-tweet-classification\n",
    "\n",
    "https://www.kaggle.com/kazanova/sentiment140\n",
    "\n",
    "https://www.kaggle.com/eliasdabbas/european-football-soccer-clubs-tweets"
   ]
  },
  {
   "cell_type": "code",
   "execution_count": null,
   "metadata": {},
   "outputs": [],
   "source": []
  }
 ],
 "metadata": {
  "colab": {
   "collapsed_sections": [],
   "default_view": {},
   "name": "house_pricing.ipynb",
   "provenance": [],
   "version": "0.3.2",
   "views": {}
  },
  "kernelspec": {
   "display_name": "Python 3",
   "language": "python",
   "name": "python3"
  },
  "language_info": {
   "codemirror_mode": {
    "name": "ipython",
    "version": 3
   },
   "file_extension": ".py",
   "mimetype": "text/x-python",
   "name": "python",
   "nbconvert_exporter": "python",
   "pygments_lexer": "ipython3",
   "version": "3.8.5"
  }
 },
 "nbformat": 4,
 "nbformat_minor": 1
}
