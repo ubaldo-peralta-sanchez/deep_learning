{
 "cells": [
  {
   "cell_type": "markdown",
   "metadata": {
    "colab": {
     "autoexec": {
      "startup": false,
      "wait_interval": 0
     }
    },
    "colab_type": "code",
    "id": "0XoF085zfFay"
   },
   "source": [
    "### Q&A (0%)\n",
    "\n",
    "- Este ejercicio consiste en un cuestionario obgligatorio de 0 puntos. El objetivo del ejercicio es testar los conocimientos teóricos de una manera similar a la que podría darse en una entrevista técnica.\n",
    "- Se devolverá este cuestionario relleno con el resto de entregables en el zip con tu nombre.\n",
    "\n",
    "#### 1. Why do we use StandardScaler?\n",
    "#### 2. What is the effect of epoches? \n",
    "#### 3. Explain the effect of learning rate\n",
    "#### 4. What role have activation functions and loss\n",
    "#### 5. Is there any inconvenience in using cross validation in NN?\n",
    "#### 6. Why DL is computationaly expensive?\n",
    "#### 7. How gradient size affects training?\n",
    "#### 8. What effect is expected if the loss function is non-differentiable?\n",
    "#### 9. Why batches are suggested and what is the effect they have during training?\n",
    "#### 10. Explain why do we need the chain rule for derivatives in Gradient Descent\n",
    "#### 11. Explain the bias variance tradeoff\n",
    "#### 12. Explain the difference between initialize NN weghts randomly instead of from zero"
   ]
  },
  {
   "cell_type": "code",
   "execution_count": null,
   "metadata": {
    "collapsed": true
   },
   "outputs": [],
   "source": [
    "# Ubaldo Peralta Sánchez"
   ]
  },
  {
   "cell_type": "markdown",
   "metadata": {},
   "source": [
    "1. Necesitamos usar un standard scaler ya que las variables suelen venir en distintos tipos de medidas. Si entrenáramos el modelo tal cual, se vería perjudicado por las distancias pudiendo crear sesgos. Al realizar un escalado, este problema, desaparece."
   ]
  },
  {
   "cell_type": "markdown",
   "metadata": {},
   "source": [
    "2. Al estar realizando un proceso iterativo en el que interviene una tasa de aprendizaje,debemos iterar varias veces para ir ajustando los pesos. La idea es ajustar el número de épocas sin llegar a sobreajustar el modelo.\n"
   ]
  },
  {
   "cell_type": "markdown",
   "metadata": {},
   "source": [
    "3. El efecto que tiene la tasa de aprendizaje:\n",
    "    Cuanto menor sea la tasa de aprendizaje, mas tiempo nos llevará reducir la pérdida. \n",
    "   ![image info](./img/LearningRateTooSmall.png)\n",
    "   En cambio, a mayor tasa de aprendizaje, más difícil será encontrar la mínima pérdida.\n",
    "    ![image info](./img/LearningRateTooLarge.png)"
   ]
  },
  {
   "cell_type": "markdown",
   "metadata": {},
   "source": [
    "4. La función de activación consigue que la neurona se active o no consiguiendo transformar una entrada linear en una salida no linear. La función de perdida permite evaluar el rendimiento del modelo y como este es capaz de generalizar. La función de pérdida evalua al modelo por cada entrenamiento."
   ]
  },
  {
   "cell_type": "markdown",
   "metadata": {},
   "source": [
    "5. hola"
   ]
  },
  {
   "cell_type": "markdown",
   "metadata": {},
   "source": [
    "6. La gran cantidad de parámetros es la razón principal del costo computacional incurrido por redes tan profundas. Aquí, los parámetros se refieren a las matrices de ponderaciones y sesgos que se crean al hacer un modelo. Pero también la razón por la que son tan buenos modelando problemas no lineales del mundo real y tienen tanto éxito sobre los algoritmos ML tradicionales."
   ]
  },
  {
   "cell_type": "code",
   "execution_count": null,
   "metadata": {},
   "outputs": [],
   "source": [
    "7. "
   ]
  }
 ],
 "metadata": {
  "colab": {
   "collapsed_sections": [],
   "default_view": {},
   "name": "house_pricing.ipynb",
   "provenance": [],
   "version": "0.3.2",
   "views": {}
  },
  "kernelspec": {
   "display_name": "Python 3",
   "language": "python",
   "name": "python3"
  },
  "language_info": {
   "codemirror_mode": {
    "name": "ipython",
    "version": 3
   },
   "file_extension": ".py",
   "mimetype": "text/x-python",
   "name": "python",
   "nbconvert_exporter": "python",
   "pygments_lexer": "ipython3",
   "version": "3.8.5"
  }
 },
 "nbformat": 4,
 "nbformat_minor": 1
}
