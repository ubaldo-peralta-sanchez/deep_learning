{
 "cells": [
  {
   "cell_type": "markdown",
   "metadata": {},
   "source": [
    "## Ejercicio de presentación en clase (10%)\n",
    "\n",
    "- Se realizará en la última hora de la última clase.\n",
    "- Exponer una idea de negocio original y realizable/aplicable por vosotros mismos con los conocimientos adquiridos en las clases.\n",
    "- Tenéis 20 minutos para preparar, 5 minutos para presentar y 5 para discutir.\n",
    "- Se hará en grupos de 2 ó 3 y se presentará uno de vosotros al azar.\n",
    "- Valdrá 1 punto de la nota final y se valorará: originalidad, aplicabilidad y participación en el debate."
   ]
  },
  {
   "cell_type": "code",
   "execution_count": null,
   "metadata": {},
   "outputs": [],
   "source": []
  }
 ],
 "metadata": {
  "kernelspec": {
   "display_name": "Python 3",
   "language": "python",
   "name": "python3"
  },
  "language_info": {
   "codemirror_mode": {
    "name": "ipython",
    "version": 3
   },
   "file_extension": ".py",
   "mimetype": "text/x-python",
   "name": "python",
   "nbconvert_exporter": "python",
   "pygments_lexer": "ipython3",
   "version": "3.8.5"
  }
 },
 "nbformat": 4,
 "nbformat_minor": 4
}
