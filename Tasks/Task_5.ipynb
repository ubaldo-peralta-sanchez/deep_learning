{
 "cells": [
  {
   "cell_type": "markdown",
   "metadata": {},
   "source": [
    "### Análisis de imágenes (30%)\n",
    "\n",
    "#### 1. Mejorar el modelo que hemos creado en clase de clasificación de imagen del dataset Fashion Mnist.\n",
    "\n",
    "- Superar el 0.90 de precisión en el entrenamiento y el 0.88 en el test supone 1 punto.\n",
    "\n",
    "\n",
    "#### 2. Mejorar el modelo que hemos creado en clase de clasificación de imagen del dataset CIFAR-10.\n",
    "- Superar el 0.90 de precisión en el entrenamiento y el 0.74 en el test supone 1 punto.\n",
    "- El punto restante se obtiene según los resultados obtenidos en estricto orden, tal y como se haría en una competición de Kaggle. El mejor modelo es 1 punto y el resto de alumnos tendrán una nota acorde al cuartil que consigan con respecto al primero."
   ]
  },
  {
   "cell_type": "markdown",
   "metadata": {},
   "source": [
    "# NN FASHION MNIST"
   ]
  },
  {
   "cell_type": "code",
   "execution_count": 1,
   "metadata": {},
   "outputs": [
    {
     "name": "stdout",
     "output_type": "stream",
     "text": [
      "2.4.1\n"
     ]
    }
   ],
   "source": [
    "import tensorflow as tf\n",
    "print(tf.__version__)"
   ]
  },
  {
   "cell_type": "code",
   "execution_count": 2,
   "metadata": {},
   "outputs": [],
   "source": [
    "mnist = tf.keras.datasets.fashion_mnist"
   ]
  },
  {
   "cell_type": "code",
   "execution_count": 3,
   "metadata": {},
   "outputs": [
    {
     "name": "stdout",
     "output_type": "stream",
     "text": [
      "Downloading data from https://storage.googleapis.com/tensorflow/tf-keras-datasets/train-labels-idx1-ubyte.gz\n",
      "32768/29515 [=================================] - 0s 0us/step\n",
      "Downloading data from https://storage.googleapis.com/tensorflow/tf-keras-datasets/train-images-idx3-ubyte.gz\n",
      "26427392/26421880 [==============================] - 2s 0us/step\n",
      "Downloading data from https://storage.googleapis.com/tensorflow/tf-keras-datasets/t10k-labels-idx1-ubyte.gz\n",
      "8192/5148 [===============================================] - 0s 0us/step\n",
      "Downloading data from https://storage.googleapis.com/tensorflow/tf-keras-datasets/t10k-images-idx3-ubyte.gz\n",
      "4423680/4422102 [==============================] - 0s 0us/step\n"
     ]
    }
   ],
   "source": [
    "(training_images, training_labels), (test_images, test_labels) = mnist.load_data()"
   ]
  },
  {
   "cell_type": "code",
   "execution_count": 10,
   "metadata": {},
   "outputs": [
    {
     "name": "stdout",
     "output_type": "stream",
     "text": [
      "9\n"
     ]
    }
   ],
   "source": [
    "import numpy as np\n",
    "np.set_printoptions(linewidth=200)\n",
    "import matplotlib.pyplot as plt\n",
    "ind = 0\n",
    "print(training_labels[ind])"
   ]
  },
  {
   "cell_type": "code",
   "execution_count": 11,
   "metadata": {},
   "outputs": [
    {
     "data": {
      "text/plain": [
       "<matplotlib.image.AxesImage at 0x219db380a00>"
      ]
     },
     "execution_count": 11,
     "metadata": {},
     "output_type": "execute_result"
    },
    {
     "data": {
      "image/png": "[encoded data removed]",
      "text/plain": [
       "<Figure size 432x288 with 1 Axes>"
      ]
     },
     "metadata": {
      "needs_background": "light"
     },
     "output_type": "display_data"
    }
   ],
   "source": [
    "plt.imshow(training_images[ind])"
   ]
  },
  {
   "cell_type": "code",
   "execution_count": 12,
   "metadata": {},
   "outputs": [],
   "source": [
    "training_images  = training_images / 255.0\n",
    "test_images = test_images / 255.0"
   ]
  },
  {
   "cell_type": "code",
   "execution_count": 37,
   "metadata": {},
   "outputs": [],
   "source": [
    "model_nn = tf.keras.models.Sequential([tf.keras.layers.Flatten(), \n",
    "                                    tf.keras.layers.Dense(256, activation=tf.nn.relu), \n",
    "                                    tf.keras.layers.Dense(128, activation=tf.nn.relu),\n",
    "                                    tf.keras.layers.Dense(10, activation=tf.nn.softmax)])"
   ]
  },
  {
   "cell_type": "code",
   "execution_count": 38,
   "metadata": {},
   "outputs": [],
   "source": [
    "model_nn.compile(optimizer = tf.optimizers.Adam(),\n",
    "              loss = 'sparse_categorical_crossentropy',\n",
    "              metrics=['accuracy'])\n",
    "\n"
   ]
  },
  {
   "cell_type": "code",
   "execution_count": 39,
   "metadata": {},
   "outputs": [
    {
     "name": "stdout",
     "output_type": "stream",
     "text": [
      "Epoch 1/100\n",
      "1875/1875 [==============================] - 2s 1ms/step - loss: 0.6061 - accuracy: 0.7852\n",
      "Epoch 2/100\n",
      "1875/1875 [==============================] - 2s 893us/step - loss: 0.3724 - accuracy: 0.8642\n",
      "Epoch 3/100\n",
      "1875/1875 [==============================] - 2s 909us/step - loss: 0.3312 - accuracy: 0.8782\n",
      "Epoch 4/100\n",
      "1875/1875 [==============================] - 2s 913us/step - loss: 0.3043 - accuracy: 0.8872\n",
      "Epoch 5/100\n",
      "1875/1875 [==============================] - 2s 907us/step - loss: 0.2872 - accuracy: 0.8947\n",
      "Epoch 6/100\n",
      "1875/1875 [==============================] - 2s 902us/step - loss: 0.2674 - accuracy: 0.9010\n",
      "Epoch 7/100\n",
      "1875/1875 [==============================] - 2s 897us/step - loss: 0.2549 - accuracy: 0.9033\n",
      "Epoch 8/100\n",
      "1875/1875 [==============================] - 2s 911us/step - loss: 0.2413 - accuracy: 0.9090\n",
      "Epoch 9/100\n",
      "1875/1875 [==============================] - 2s 911us/step - loss: 0.2333 - accuracy: 0.9112\n",
      "Epoch 10/100\n",
      "1875/1875 [==============================] - 2s 910us/step - loss: 0.2275 - accuracy: 0.9133\n",
      "Epoch 11/100\n",
      "1875/1875 [==============================] - 2s 929us/step - loss: 0.2165 - accuracy: 0.9174\n",
      "Epoch 12/100\n",
      "1875/1875 [==============================] - 2s 908us/step - loss: 0.2038 - accuracy: 0.9240\n",
      "Epoch 13/100\n",
      "1875/1875 [==============================] - 2s 900us/step - loss: 0.1963 - accuracy: 0.9251\n",
      "Epoch 14/100\n",
      "1875/1875 [==============================] - 2s 901us/step - loss: 0.1957 - accuracy: 0.9248\n",
      "Epoch 15/100\n",
      "1875/1875 [==============================] - 2s 902us/step - loss: 0.1847 - accuracy: 0.9287\n",
      "Epoch 16/100\n",
      "1875/1875 [==============================] - 2s 899us/step - loss: 0.1802 - accuracy: 0.9313\n",
      "Epoch 17/100\n",
      "1875/1875 [==============================] - 2s 905us/step - loss: 0.1720 - accuracy: 0.9338\n",
      "Epoch 18/100\n",
      "1875/1875 [==============================] - 2s 903us/step - loss: 0.1690 - accuracy: 0.9360\n",
      "Epoch 19/100\n",
      "1875/1875 [==============================] - 2s 908us/step - loss: 0.1694 - accuracy: 0.9347\n",
      "Epoch 20/100\n",
      "1875/1875 [==============================] - 2s 913us/step - loss: 0.1540 - accuracy: 0.9404\n",
      "Epoch 21/100\n",
      "1875/1875 [==============================] - 2s 911us/step - loss: 0.1515 - accuracy: 0.9407\n",
      "Epoch 22/100\n",
      "1875/1875 [==============================] - 2s 913us/step - loss: 0.1506 - accuracy: 0.9424\n",
      "Epoch 23/100\n",
      "1875/1875 [==============================] - 2s 915us/step - loss: 0.1435 - accuracy: 0.9451\n",
      "Epoch 24/100\n",
      "1875/1875 [==============================] - 2s 916us/step - loss: 0.1391 - accuracy: 0.9462\n",
      "Epoch 25/100\n",
      "1875/1875 [==============================] - 2s 974us/step - loss: 0.1334 - accuracy: 0.9488\n",
      "Epoch 26/100\n",
      "1875/1875 [==============================] - 2s 908us/step - loss: 0.1393 - accuracy: 0.9483\n",
      "Epoch 27/100\n",
      "1875/1875 [==============================] - 2s 880us/step - loss: 0.1341 - accuracy: 0.9493\n",
      "Epoch 28/100\n",
      "1875/1875 [==============================] - 2s 939us/step - loss: 0.1306 - accuracy: 0.9508\n",
      "Epoch 29/100\n",
      "1875/1875 [==============================] - 2s 989us/step - loss: 0.1254 - accuracy: 0.9516\n",
      "Epoch 30/100\n",
      "1875/1875 [==============================] - 2s 911us/step - loss: 0.1184 - accuracy: 0.9546\n",
      "Epoch 31/100\n",
      "1875/1875 [==============================] - 2s 901us/step - loss: 0.1191 - accuracy: 0.9543\n",
      "Epoch 32/100\n",
      "1875/1875 [==============================] - 2s 910us/step - loss: 0.1192 - accuracy: 0.9541\n",
      "Epoch 33/100\n",
      "1875/1875 [==============================] - 2s 944us/step - loss: 0.1154 - accuracy: 0.9545\n",
      "Epoch 34/100\n",
      "1875/1875 [==============================] - 2s 924us/step - loss: 0.1152 - accuracy: 0.9558\n",
      "Epoch 35/100\n",
      "1875/1875 [==============================] - 2s 901us/step - loss: 0.1131 - accuracy: 0.9573\n",
      "Epoch 36/100\n",
      "1875/1875 [==============================] - 2s 895us/step - loss: 0.1114 - accuracy: 0.9563\n",
      "Epoch 37/100\n",
      "1875/1875 [==============================] - 2s 911us/step - loss: 0.1079 - accuracy: 0.9596\n",
      "Epoch 38/100\n",
      "1875/1875 [==============================] - 2s 912us/step - loss: 0.1047 - accuracy: 0.9588\n",
      "Epoch 39/100\n",
      "1875/1875 [==============================] - 2s 919us/step - loss: 0.0988 - accuracy: 0.9627\n",
      "Epoch 40/100\n",
      "1875/1875 [==============================] - 2s 915us/step - loss: 0.0969 - accuracy: 0.9638\n",
      "Epoch 41/100\n",
      "1875/1875 [==============================] - 2s 897us/step - loss: 0.0982 - accuracy: 0.9628\n",
      "Epoch 42/100\n",
      "1875/1875 [==============================] - 2s 891us/step - loss: 0.0980 - accuracy: 0.9635\n",
      "Epoch 43/100\n",
      "1875/1875 [==============================] - 2s 893us/step - loss: 0.0923 - accuracy: 0.9646\n",
      "Epoch 44/100\n",
      "1875/1875 [==============================] - 2s 890us/step - loss: 0.0966 - accuracy: 0.9634\n",
      "Epoch 45/100\n",
      "1875/1875 [==============================] - 2s 898us/step - loss: 0.0898 - accuracy: 0.9660\n",
      "Epoch 46/100\n",
      "1875/1875 [==============================] - 2s 915us/step - loss: 0.0878 - accuracy: 0.9662\n",
      "Epoch 47/100\n",
      "1875/1875 [==============================] - 2s 911us/step - loss: 0.0915 - accuracy: 0.9654\n",
      "Epoch 48/100\n",
      "1875/1875 [==============================] - 2s 922us/step - loss: 0.0817 - accuracy: 0.9690\n",
      "Epoch 49/100\n",
      "1875/1875 [==============================] - 2s 911us/step - loss: 0.0852 - accuracy: 0.9673\n",
      "Epoch 50/100\n",
      "1875/1875 [==============================] - 2s 901us/step - loss: 0.0830 - accuracy: 0.9690\n",
      "Epoch 51/100\n",
      "1875/1875 [==============================] - 2s 893us/step - loss: 0.0786 - accuracy: 0.9708\n",
      "Epoch 52/100\n",
      "1875/1875 [==============================] - 2s 891us/step - loss: 0.0793 - accuracy: 0.9698\n",
      "Epoch 53/100\n",
      "1875/1875 [==============================] - 2s 893us/step - loss: 0.0789 - accuracy: 0.9701\n",
      "Epoch 54/100\n",
      "1875/1875 [==============================] - 2s 896us/step - loss: 0.0775 - accuracy: 0.9703\n",
      "Epoch 55/100\n",
      "1875/1875 [==============================] - 2s 894us/step - loss: 0.0738 - accuracy: 0.9722\n",
      "Epoch 56/100\n",
      "1875/1875 [==============================] - 2s 892us/step - loss: 0.0747 - accuracy: 0.9712\n",
      "Epoch 57/100\n",
      "1875/1875 [==============================] - 2s 895us/step - loss: 0.0755 - accuracy: 0.9717\n",
      "Epoch 58/100\n",
      "1875/1875 [==============================] - 2s 892us/step - loss: 0.0704 - accuracy: 0.9728\n",
      "Epoch 59/100\n",
      "1875/1875 [==============================] - 2s 898us/step - loss: 0.0701 - accuracy: 0.9734\n",
      "Epoch 60/100\n",
      "1875/1875 [==============================] - 2s 910us/step - loss: 0.0699 - accuracy: 0.9745\n",
      "Epoch 61/100\n",
      "1875/1875 [==============================] - 2s 918us/step - loss: 0.0720 - accuracy: 0.9733\n",
      "Epoch 62/100\n",
      "1875/1875 [==============================] - 2s 913us/step - loss: 0.0674 - accuracy: 0.9750\n",
      "Epoch 63/100\n",
      "1875/1875 [==============================] - 2s 892us/step - loss: 0.0693 - accuracy: 0.9735\n",
      "Epoch 64/100\n",
      "1875/1875 [==============================] - 2s 898us/step - loss: 0.0698 - accuracy: 0.9741\n",
      "Epoch 65/100\n",
      "1875/1875 [==============================] - 2s 906us/step - loss: 0.0632 - accuracy: 0.9763\n",
      "Epoch 66/100\n",
      "1875/1875 [==============================] - 2s 904us/step - loss: 0.0598 - accuracy: 0.9778\n",
      "Epoch 67/100\n",
      "1875/1875 [==============================] - 2s 908us/step - loss: 0.0640 - accuracy: 0.9760\n",
      "Epoch 68/100\n",
      "1875/1875 [==============================] - 2s 907us/step - loss: 0.0627 - accuracy: 0.9770\n",
      "Epoch 69/100\n",
      "1875/1875 [==============================] - 2s 908us/step - loss: 0.0622 - accuracy: 0.9777\n",
      "Epoch 70/100\n",
      "1875/1875 [==============================] - 2s 921us/step - loss: 0.0560 - accuracy: 0.9784\n",
      "Epoch 71/100\n",
      "1875/1875 [==============================] - 2s 919us/step - loss: 0.0637 - accuracy: 0.9760\n",
      "Epoch 72/100\n",
      "1875/1875 [==============================] - 2s 922us/step - loss: 0.0575 - accuracy: 0.9783\n",
      "Epoch 73/100\n",
      "1875/1875 [==============================] - 2s 910us/step - loss: 0.0583 - accuracy: 0.9785\n",
      "Epoch 74/100\n",
      "1875/1875 [==============================] - 2s 918us/step - loss: 0.0583 - accuracy: 0.9781\n",
      "Epoch 75/100\n",
      "1875/1875 [==============================] - 2s 907us/step - loss: 0.0618 - accuracy: 0.9775\n",
      "Epoch 76/100\n",
      "1875/1875 [==============================] - 2s 905us/step - loss: 0.0528 - accuracy: 0.9795\n",
      "Epoch 77/100\n",
      "1875/1875 [==============================] - 2s 903us/step - loss: 0.0566 - accuracy: 0.9777\n",
      "Epoch 78/100\n"
     ]
    },
    {
     "name": "stdout",
     "output_type": "stream",
     "text": [
      "1875/1875 [==============================] - 2s 905us/step - loss: 0.0532 - accuracy: 0.9808\n",
      "Epoch 79/100\n",
      "1875/1875 [==============================] - 2s 904us/step - loss: 0.0469 - accuracy: 0.9824\n",
      "Epoch 80/100\n",
      "1875/1875 [==============================] - 2s 904us/step - loss: 0.0543 - accuracy: 0.9795\n",
      "Epoch 81/100\n",
      "1875/1875 [==============================] - 2s 901us/step - loss: 0.0524 - accuracy: 0.9813\n",
      "Epoch 82/100\n",
      "1875/1875 [==============================] - 2s 905us/step - loss: 0.0476 - accuracy: 0.9820\n",
      "Epoch 83/100\n",
      "1875/1875 [==============================] - 2s 905us/step - loss: 0.0519 - accuracy: 0.9807\n",
      "Epoch 84/100\n",
      "1875/1875 [==============================] - 2s 902us/step - loss: 0.0482 - accuracy: 0.9819\n",
      "Epoch 85/100\n",
      "1875/1875 [==============================] - 2s 910us/step - loss: 0.0588 - accuracy: 0.9790\n",
      "Epoch 86/100\n",
      "1875/1875 [==============================] - 2s 930us/step - loss: 0.0463 - accuracy: 0.9828\n",
      "Epoch 87/100\n",
      "1875/1875 [==============================] - 2s 911us/step - loss: 0.0520 - accuracy: 0.9806\n",
      "Epoch 88/100\n",
      "1875/1875 [==============================] - 2s 905us/step - loss: 0.0462 - accuracy: 0.9831\n",
      "Epoch 89/100\n",
      "1875/1875 [==============================] - 2s 907us/step - loss: 0.0514 - accuracy: 0.9805\n",
      "Epoch 90/100\n",
      "1875/1875 [==============================] - 2s 906us/step - loss: 0.0431 - accuracy: 0.9839\n",
      "Epoch 91/100\n",
      "1875/1875 [==============================] - 2s 902us/step - loss: 0.0523 - accuracy: 0.9813\n",
      "Epoch 92/100\n",
      "1875/1875 [==============================] - 2s 898us/step - loss: 0.0503 - accuracy: 0.9826\n",
      "Epoch 93/100\n",
      "1875/1875 [==============================] - 2s 898us/step - loss: 0.0497 - accuracy: 0.9823\n",
      "Epoch 94/100\n",
      "1875/1875 [==============================] - 2s 901us/step - loss: 0.0443 - accuracy: 0.9837\n",
      "Epoch 95/100\n",
      "1875/1875 [==============================] - 2s 898us/step - loss: 0.0455 - accuracy: 0.9841\n",
      "Epoch 96/100\n",
      "1875/1875 [==============================] - 2s 896us/step - loss: 0.0417 - accuracy: 0.9848\n",
      "Epoch 97/100\n",
      "1875/1875 [==============================] - 2s 896us/step - loss: 0.0565 - accuracy: 0.9799\n",
      "Epoch 98/100\n",
      "1875/1875 [==============================] - 2s 896us/step - loss: 0.0411 - accuracy: 0.9844\n",
      "Epoch 99/100\n",
      "1875/1875 [==============================] - 2s 896us/step - loss: 0.0416 - accuracy: 0.9846\n",
      "Epoch 100/100\n",
      "1875/1875 [==============================] - 2s 909us/step - loss: 0.0549 - accuracy: 0.9812\n",
      "Model: \"sequential_3\"\n",
      "_________________________________________________________________\n",
      "Layer (type)                 Output Shape              Param #   \n",
      "=================================================================\n",
      "flatten_3 (Flatten)          (32, 784)                 0         \n",
      "_________________________________________________________________\n",
      "dense_7 (Dense)              (32, 256)                 200960    \n",
      "_________________________________________________________________\n",
      "dense_8 (Dense)              (32, 128)                 32896     \n",
      "_________________________________________________________________\n",
      "dense_9 (Dense)              (32, 10)                  1290      \n",
      "=================================================================\n",
      "Total params: 235,146\n",
      "Trainable params: 235,146\n",
      "Non-trainable params: 0\n",
      "_________________________________________________________________\n"
     ]
    }
   ],
   "source": [
    "model_nn.fit(training_images, training_labels, epochs=100)\n",
    "model_nn.summary()"
   ]
  },
  {
   "cell_type": "code",
   "execution_count": 40,
   "metadata": {},
   "outputs": [
    {
     "name": "stdout",
     "output_type": "stream",
     "text": [
      "Train Accuracy: 0.9866\n",
      "Test Accuracy:  0.8930\n"
     ]
    }
   ],
   "source": [
    "train_loss, train_accuracy = model_nn.evaluate(training_images, training_labels, verbose = False)\n",
    "print(\"Train Accuracy: {:.4f}\".format(train_accuracy))\n",
    "\n",
    "test_loss, test_accuracy = model_nn.evaluate(test_images, test_labels, verbose = False)\n",
    "print(\"Test Accuracy:  {:.4f}\".format(test_accuracy))\n"
   ]
  },
  {
   "cell_type": "markdown",
   "metadata": {},
   "source": [
    "# CNN CIFAR10"
   ]
  },
  {
   "cell_type": "code",
   "execution_count": 32,
   "metadata": {},
   "outputs": [
    {
     "name": "stdout",
     "output_type": "stream",
     "text": [
      "2.4.1\n"
     ]
    }
   ],
   "source": [
    "import tensorflow as tf\n",
    "print(tf.__version__)"
   ]
  },
  {
   "cell_type": "code",
   "execution_count": 33,
   "metadata": {},
   "outputs": [],
   "source": [
    "# Configurar el nombre de las clases del dataset\n",
    "class_names = ['avión', 'coche', 'pájaro', 'gato', 'ciervo', 'perro', 'rana', 'caballo', 'barco', 'camión']"
   ]
  },
  {
   "cell_type": "code",
   "execution_count": 34,
   "metadata": {},
   "outputs": [],
   "source": [
    "# Cargar el dataset\n",
    "(X_train, y_train), (X_test, y_test) = tf.keras.datasets.cifar10.load_data()\n",
    "# (X_train, y_train), (X_test, y_test) = mnist.load_data()\n"
   ]
  },
  {
   "cell_type": "code",
   "execution_count": 4,
   "metadata": {},
   "outputs": [
    {
     "data": {
      "text/plain": [
       "<matplotlib.image.AxesImage at 0x19a64e88100>"
      ]
     },
     "execution_count": 4,
     "metadata": {},
     "output_type": "execute_result"
    },
    {
     "data": {
      "image/png": "[encoded data removed]",
      "text/plain": [
       "<Figure size 432x288 with 1 Axes>"
      ]
     },
     "metadata": {
      "needs_background": "light"
     },
     "output_type": "display_data"
    }
   ],
   "source": [
    "import numpy as np\n",
    "np.set_printoptions(linewidth=200)\n",
    "import matplotlib.pyplot as plt\n",
    "ind = 0\n",
    "plt.imshow(X_train[ind])"
   ]
  },
  {
   "cell_type": "code",
   "execution_count": 33,
   "metadata": {},
   "outputs": [
    {
     "name": "stdout",
     "output_type": "stream",
     "text": [
      "Epoch 1/150\n",
      "1563/1563 [==============================] - 166s 106ms/step - loss: 2.0002 - accuracy: 0.3833 - val_loss: 1.4707 - val_accuracy: 0.5410\n",
      "Epoch 2/150\n",
      "1563/1563 [==============================] - 161s 103ms/step - loss: 1.1881 - accuracy: 0.5931 - val_loss: 1.1197 - val_accuracy: 0.6256\n",
      "Epoch 3/150\n",
      "1563/1563 [==============================] - 160s 102ms/step - loss: 1.0165 - accuracy: 0.6472 - val_loss: 0.9262 - val_accuracy: 0.6748\n",
      "Epoch 4/150\n",
      "1563/1563 [==============================] - 159s 102ms/step - loss: 0.9396 - accuracy: 0.6758 - val_loss: 1.1377 - val_accuracy: 0.6196\n",
      "Epoch 5/150\n",
      "1563/1563 [==============================] - 160s 103ms/step - loss: 0.8867 - accuracy: 0.6918 - val_loss: 0.8255 - val_accuracy: 0.7141\n",
      "Epoch 6/150\n",
      "1563/1563 [==============================] - 165s 105ms/step - loss: 0.8485 - accuracy: 0.7043 - val_loss: 0.8397 - val_accuracy: 0.7122\n",
      "Epoch 7/150\n",
      "1563/1563 [==============================] - 158s 101ms/step - loss: 0.8256 - accuracy: 0.7178 - val_loss: 0.8068 - val_accuracy: 0.7212\n",
      "Epoch 8/150\n",
      "1563/1563 [==============================] - 156s 100ms/step - loss: 0.7937 - accuracy: 0.7255 - val_loss: 0.8681 - val_accuracy: 0.7018\n",
      "Epoch 9/150\n",
      "1563/1563 [==============================] - 157s 100ms/step - loss: 0.7704 - accuracy: 0.7318 - val_loss: 0.7534 - val_accuracy: 0.7419\n",
      "Epoch 10/150\n",
      "1563/1563 [==============================] - 156s 100ms/step - loss: 0.7448 - accuracy: 0.7403 - val_loss: 0.7582 - val_accuracy: 0.7402\n",
      "Epoch 11/150\n",
      "1563/1563 [==============================] - 157s 100ms/step - loss: 0.7340 - accuracy: 0.7465 - val_loss: 0.7343 - val_accuracy: 0.7455\n",
      "Epoch 12/150\n",
      "1563/1563 [==============================] - 156s 100ms/step - loss: 0.7090 - accuracy: 0.7557 - val_loss: 0.6917 - val_accuracy: 0.7612\n",
      "Epoch 13/150\n",
      "1563/1563 [==============================] - 157s 100ms/step - loss: 0.6947 - accuracy: 0.7618 - val_loss: 0.7036 - val_accuracy: 0.7603\n",
      "Epoch 14/150\n",
      "1563/1563 [==============================] - 157s 100ms/step - loss: 0.6744 - accuracy: 0.7656 - val_loss: 0.7126 - val_accuracy: 0.7617\n",
      "Epoch 15/150\n",
      "1563/1563 [==============================] - 158s 101ms/step - loss: 0.6710 - accuracy: 0.7647 - val_loss: 0.7048 - val_accuracy: 0.7569\n",
      "Epoch 16/150\n",
      "1563/1563 [==============================] - 160s 102ms/step - loss: 0.6599 - accuracy: 0.7727 - val_loss: 0.6813 - val_accuracy: 0.7661\n",
      "Epoch 17/150\n",
      "1563/1563 [==============================] - 158s 101ms/step - loss: 0.6486 - accuracy: 0.7781 - val_loss: 0.7674 - val_accuracy: 0.7425\n",
      "Epoch 18/150\n",
      "1563/1563 [==============================] - 158s 101ms/step - loss: 0.6368 - accuracy: 0.7795 - val_loss: 0.6547 - val_accuracy: 0.7745\n",
      "Epoch 19/150\n",
      "1563/1563 [==============================] - 159s 102ms/step - loss: 0.6257 - accuracy: 0.7833 - val_loss: 0.6488 - val_accuracy: 0.7822\n",
      "Epoch 20/150\n",
      "1563/1563 [==============================] - 158s 101ms/step - loss: 0.6105 - accuracy: 0.7907 - val_loss: 0.6661 - val_accuracy: 0.7744\n",
      "Epoch 21/150\n",
      "1563/1563 [==============================] - 158s 101ms/step - loss: 0.6062 - accuracy: 0.7897 - val_loss: 0.6833 - val_accuracy: 0.7674\n",
      "Epoch 22/150\n",
      "1563/1563 [==============================] - 158s 101ms/step - loss: 0.5932 - accuracy: 0.7936 - val_loss: 0.6831 - val_accuracy: 0.7647\n",
      "Epoch 23/150\n",
      "1563/1563 [==============================] - 158s 101ms/step - loss: 0.5879 - accuracy: 0.7952 - val_loss: 0.6670 - val_accuracy: 0.7755\n",
      "Epoch 24/150\n",
      "1563/1563 [==============================] - 158s 101ms/step - loss: 0.5867 - accuracy: 0.7956 - val_loss: 0.6702 - val_accuracy: 0.7747\n",
      "Epoch 25/150\n",
      "1563/1563 [==============================] - 158s 101ms/step - loss: 0.5826 - accuracy: 0.7961 - val_loss: 0.7287 - val_accuracy: 0.7609\n",
      "Epoch 26/150\n",
      "1563/1563 [==============================] - 158s 101ms/step - loss: 0.5723 - accuracy: 0.7997 - val_loss: 0.6787 - val_accuracy: 0.7770\n",
      "Epoch 27/150\n",
      "1563/1563 [==============================] - 157s 101ms/step - loss: 0.5675 - accuracy: 0.8009 - val_loss: 0.6288 - val_accuracy: 0.7869\n",
      "Epoch 28/150\n",
      "1563/1563 [==============================] - 157s 101ms/step - loss: 0.5631 - accuracy: 0.8031 - val_loss: 0.6162 - val_accuracy: 0.7921\n",
      "Epoch 29/150\n",
      "1563/1563 [==============================] - 158s 101ms/step - loss: 0.5498 - accuracy: 0.8070 - val_loss: 0.6713 - val_accuracy: 0.7796\n",
      "Epoch 30/150\n",
      "1563/1563 [==============================] - 157s 101ms/step - loss: 0.5365 - accuracy: 0.8114 - val_loss: 0.6640 - val_accuracy: 0.7754\n",
      "Epoch 31/150\n",
      "1563/1563 [==============================] - 158s 101ms/step - loss: 0.5501 - accuracy: 0.8085 - val_loss: 0.6316 - val_accuracy: 0.7836\n",
      "Epoch 32/150\n",
      "1563/1563 [==============================] - 158s 101ms/step - loss: 0.5398 - accuracy: 0.8111 - val_loss: 0.6758 - val_accuracy: 0.7734\n",
      "Epoch 33/150\n",
      "1563/1563 [==============================] - 158s 101ms/step - loss: 0.5316 - accuracy: 0.8144 - val_loss: 0.6413 - val_accuracy: 0.7852\n",
      "Epoch 34/150\n",
      "1563/1563 [==============================] - 158s 101ms/step - loss: 0.5271 - accuracy: 0.8169 - val_loss: 0.6496 - val_accuracy: 0.7834\n",
      "Epoch 35/150\n",
      "1563/1563 [==============================] - 157s 101ms/step - loss: 0.5168 - accuracy: 0.8162 - val_loss: 0.6053 - val_accuracy: 0.7912\n",
      "Epoch 36/150\n",
      "1563/1563 [==============================] - 157s 101ms/step - loss: 0.5162 - accuracy: 0.8176 - val_loss: 0.6256 - val_accuracy: 0.7920\n",
      "Epoch 37/150\n",
      "1563/1563 [==============================] - 157s 101ms/step - loss: 0.5103 - accuracy: 0.8211 - val_loss: 0.6944 - val_accuracy: 0.7671\n",
      "Epoch 38/150\n",
      "1563/1563 [==============================] - 157s 101ms/step - loss: 0.5070 - accuracy: 0.8246 - val_loss: 0.6075 - val_accuracy: 0.7948\n",
      "Epoch 39/150\n",
      "1563/1563 [==============================] - 157s 100ms/step - loss: 0.5077 - accuracy: 0.8202 - val_loss: 0.6302 - val_accuracy: 0.7872\n",
      "Epoch 40/150\n",
      "1563/1563 [==============================] - 157s 100ms/step - loss: 0.5013 - accuracy: 0.8235 - val_loss: 0.6078 - val_accuracy: 0.7952\n",
      "Epoch 41/150\n",
      "1563/1563 [==============================] - 157s 101ms/step - loss: 0.5024 - accuracy: 0.8228 - val_loss: 0.6151 - val_accuracy: 0.7957\n",
      "Epoch 42/150\n",
      "1563/1563 [==============================] - 157s 101ms/step - loss: 0.4987 - accuracy: 0.8268 - val_loss: 0.6291 - val_accuracy: 0.7920\n",
      "Epoch 43/150\n",
      "1563/1563 [==============================] - 157s 101ms/step - loss: 0.4937 - accuracy: 0.8274 - val_loss: 0.6129 - val_accuracy: 0.7960\n",
      "Epoch 44/150\n",
      "1563/1563 [==============================] - 157s 101ms/step - loss: 0.4868 - accuracy: 0.8307 - val_loss: 0.6241 - val_accuracy: 0.7932\n",
      "Epoch 45/150\n",
      "1563/1563 [==============================] - 157s 101ms/step - loss: 0.4909 - accuracy: 0.8292 - val_loss: 0.6796 - val_accuracy: 0.7729\n",
      "Epoch 46/150\n",
      "1563/1563 [==============================] - 157s 101ms/step - loss: 0.4813 - accuracy: 0.8310 - val_loss: 0.6341 - val_accuracy: 0.7869\n",
      "Epoch 47/150\n",
      "1563/1563 [==============================] - 157s 100ms/step - loss: 0.4758 - accuracy: 0.8321 - val_loss: 0.6997 - val_accuracy: 0.7764\n",
      "Epoch 48/150\n",
      "1563/1563 [==============================] - 157s 100ms/step - loss: 0.4801 - accuracy: 0.8318 - val_loss: 0.6156 - val_accuracy: 0.7933\n",
      "Epoch 49/150\n",
      "1563/1563 [==============================] - 157s 101ms/step - loss: 0.4648 - accuracy: 0.8376 - val_loss: 0.6058 - val_accuracy: 0.8001\n",
      "Epoch 50/150\n",
      "1563/1563 [==============================] - 157s 100ms/step - loss: 0.4642 - accuracy: 0.8356 - val_loss: 0.5991 - val_accuracy: 0.8001\n",
      "Epoch 51/150\n",
      "1563/1563 [==============================] - 157s 100ms/step - loss: 0.4715 - accuracy: 0.8351 - val_loss: 0.5972 - val_accuracy: 0.8022\n",
      "Epoch 52/150\n",
      "1563/1563 [==============================] - 157s 101ms/step - loss: 0.4715 - accuracy: 0.8378 - val_loss: 0.6145 - val_accuracy: 0.7977\n",
      "Epoch 53/150\n",
      "1563/1563 [==============================] - 157s 100ms/step - loss: 0.4557 - accuracy: 0.8414 - val_loss: 0.6113 - val_accuracy: 0.7993\n",
      "Epoch 54/150\n",
      "1563/1563 [==============================] - 157s 101ms/step - loss: 0.4621 - accuracy: 0.8373 - val_loss: 0.6504 - val_accuracy: 0.7855\n",
      "Epoch 55/150\n",
      "1563/1563 [==============================] - 158s 101ms/step - loss: 0.4555 - accuracy: 0.8419 - val_loss: 0.6701 - val_accuracy: 0.7917\n"
     ]
    },
    {
     "name": "stdout",
     "output_type": "stream",
     "text": [
      "Epoch 56/150\n",
      "1563/1563 [==============================] - 157s 100ms/step - loss: 0.4474 - accuracy: 0.8398 - val_loss: 0.6118 - val_accuracy: 0.8022\n",
      "Epoch 57/150\n",
      "1563/1563 [==============================] - 157s 100ms/step - loss: 0.4428 - accuracy: 0.8430 - val_loss: 0.6281 - val_accuracy: 0.7957\n",
      "Epoch 58/150\n",
      "1563/1563 [==============================] - 157s 100ms/step - loss: 0.4396 - accuracy: 0.8453 - val_loss: 0.6010 - val_accuracy: 0.7998\n",
      "Epoch 59/150\n",
      "1563/1563 [==============================] - 157s 100ms/step - loss: 0.4506 - accuracy: 0.8422 - val_loss: 0.6362 - val_accuracy: 0.7916\n",
      "Epoch 60/150\n",
      "1563/1563 [==============================] - 157s 100ms/step - loss: 0.4404 - accuracy: 0.8436 - val_loss: 0.6101 - val_accuracy: 0.7975\n",
      "Epoch 61/150\n",
      "1563/1563 [==============================] - 157s 100ms/step - loss: 0.4455 - accuracy: 0.8413 - val_loss: 0.6218 - val_accuracy: 0.7937\n",
      "Epoch 62/150\n",
      "1563/1563 [==============================] - 157s 100ms/step - loss: 0.4377 - accuracy: 0.8450 - val_loss: 0.5956 - val_accuracy: 0.8031\n",
      "Epoch 63/150\n",
      "1563/1563 [==============================] - 157s 100ms/step - loss: 0.4382 - accuracy: 0.8480 - val_loss: 0.6397 - val_accuracy: 0.7903\n",
      "Epoch 64/150\n",
      "1563/1563 [==============================] - 157s 100ms/step - loss: 0.4392 - accuracy: 0.8459 - val_loss: 0.6340 - val_accuracy: 0.7904\n",
      "Epoch 65/150\n",
      "1563/1563 [==============================] - 157s 100ms/step - loss: 0.4261 - accuracy: 0.8469 - val_loss: 0.5973 - val_accuracy: 0.8057\n",
      "Epoch 66/150\n",
      "1563/1563 [==============================] - 157s 100ms/step - loss: 0.4275 - accuracy: 0.8466 - val_loss: 0.6244 - val_accuracy: 0.7995\n",
      "Epoch 67/150\n",
      "1563/1563 [==============================] - 157s 100ms/step - loss: 0.4277 - accuracy: 0.8475 - val_loss: 0.6623 - val_accuracy: 0.7834\n",
      "Epoch 68/150\n",
      "1563/1563 [==============================] - 157s 101ms/step - loss: 0.4185 - accuracy: 0.8518 - val_loss: 0.6275 - val_accuracy: 0.7944\n",
      "Epoch 69/150\n",
      "1563/1563 [==============================] - 157s 101ms/step - loss: 0.4246 - accuracy: 0.8474 - val_loss: 0.5933 - val_accuracy: 0.8042\n",
      "Epoch 70/150\n",
      "1563/1563 [==============================] - 157s 100ms/step - loss: 0.4202 - accuracy: 0.8508 - val_loss: 0.6155 - val_accuracy: 0.7996\n",
      "Epoch 71/150\n",
      "1563/1563 [==============================] - 158s 101ms/step - loss: 0.4138 - accuracy: 0.8546 - val_loss: 0.6267 - val_accuracy: 0.7943\n",
      "Epoch 72/150\n",
      "1563/1563 [==============================] - 158s 101ms/step - loss: 0.4209 - accuracy: 0.8502 - val_loss: 0.6138 - val_accuracy: 0.7985\n",
      "Epoch 73/150\n",
      "1563/1563 [==============================] - 157s 100ms/step - loss: 0.4136 - accuracy: 0.8522 - val_loss: 0.6057 - val_accuracy: 0.8014\n",
      "Epoch 74/150\n",
      "1563/1563 [==============================] - 156s 100ms/step - loss: 0.4180 - accuracy: 0.8537 - val_loss: 0.6162 - val_accuracy: 0.7982\n",
      "Epoch 75/150\n",
      "1563/1563 [==============================] - 158s 101ms/step - loss: 0.4001 - accuracy: 0.8593 - val_loss: 0.6162 - val_accuracy: 0.7974\n",
      "Epoch 76/150\n",
      "1563/1563 [==============================] - 158s 101ms/step - loss: 0.4094 - accuracy: 0.8535 - val_loss: 0.5923 - val_accuracy: 0.8069\n",
      "Epoch 77/150\n",
      "1563/1563 [==============================] - 158s 101ms/step - loss: 0.4014 - accuracy: 0.8564 - val_loss: 0.6068 - val_accuracy: 0.8000\n",
      "Epoch 78/150\n",
      "1563/1563 [==============================] - 168s 107ms/step - loss: 0.4103 - accuracy: 0.8555 - val_loss: 0.5919 - val_accuracy: 0.8054\n",
      "Epoch 79/150\n",
      "1563/1563 [==============================] - 169s 108ms/step - loss: 0.4044 - accuracy: 0.8569 - val_loss: 0.6266 - val_accuracy: 0.7984\n",
      "Epoch 80/150\n",
      "1563/1563 [==============================] - 173s 110ms/step - loss: 0.4026 - accuracy: 0.8559 - val_loss: 0.6261 - val_accuracy: 0.7974\n",
      "Epoch 81/150\n",
      "1563/1563 [==============================] - 171s 109ms/step - loss: 0.3919 - accuracy: 0.8618 - val_loss: 0.6406 - val_accuracy: 0.7911\n",
      "Epoch 82/150\n",
      "1563/1563 [==============================] - 171s 109ms/step - loss: 0.3934 - accuracy: 0.8610 - val_loss: 0.6356 - val_accuracy: 0.7945\n",
      "Epoch 83/150\n",
      "1563/1563 [==============================] - 171s 109ms/step - loss: 0.4004 - accuracy: 0.8560 - val_loss: 0.6036 - val_accuracy: 0.8039\n",
      "Epoch 84/150\n",
      "1563/1563 [==============================] - 171s 110ms/step - loss: 0.4008 - accuracy: 0.8563 - val_loss: 0.6433 - val_accuracy: 0.7915\n",
      "Epoch 85/150\n",
      "1563/1563 [==============================] - 171s 110ms/step - loss: 0.3881 - accuracy: 0.8625 - val_loss: 0.6026 - val_accuracy: 0.8036\n",
      "Epoch 86/150\n",
      "1563/1563 [==============================] - 172s 110ms/step - loss: 0.3868 - accuracy: 0.8602 - val_loss: 0.6219 - val_accuracy: 0.8027\n",
      "Epoch 87/150\n",
      "1563/1563 [==============================] - 172s 110ms/step - loss: 0.3877 - accuracy: 0.8620 - val_loss: 0.6147 - val_accuracy: 0.8006\n",
      "Epoch 88/150\n",
      "1563/1563 [==============================] - 173s 111ms/step - loss: 0.3875 - accuracy: 0.8643 - val_loss: 0.7035 - val_accuracy: 0.7820\n",
      "Epoch 89/150\n",
      "1563/1563 [==============================] - 173s 110ms/step - loss: 0.3866 - accuracy: 0.8615 - val_loss: 0.5974 - val_accuracy: 0.8052\n",
      "Epoch 90/150\n",
      "1563/1563 [==============================] - 173s 110ms/step - loss: 0.3844 - accuracy: 0.8608 - val_loss: 0.6188 - val_accuracy: 0.7971\n",
      "Epoch 91/150\n",
      "1563/1563 [==============================] - 172s 110ms/step - loss: 0.3874 - accuracy: 0.8610 - val_loss: 0.6469 - val_accuracy: 0.7966\n",
      "Epoch 92/150\n",
      "1563/1563 [==============================] - 172s 110ms/step - loss: 0.3832 - accuracy: 0.8628 - val_loss: 0.6346 - val_accuracy: 0.7987\n",
      "Epoch 93/150\n",
      "1563/1563 [==============================] - 169s 108ms/step - loss: 0.3859 - accuracy: 0.8631 - val_loss: 0.6240 - val_accuracy: 0.8011\n",
      "Epoch 94/150\n",
      "1563/1563 [==============================] - 169s 108ms/step - loss: 0.3825 - accuracy: 0.8641 - val_loss: 0.5950 - val_accuracy: 0.8085\n",
      "Epoch 95/150\n",
      "1563/1563 [==============================] - 172s 110ms/step - loss: 0.3736 - accuracy: 0.8696 - val_loss: 0.6128 - val_accuracy: 0.8032\n",
      "Epoch 96/150\n",
      "1563/1563 [==============================] - 171s 109ms/step - loss: 0.3809 - accuracy: 0.8620 - val_loss: 0.6084 - val_accuracy: 0.8065\n",
      "Epoch 97/150\n",
      "1563/1563 [==============================] - 170s 109ms/step - loss: 0.3807 - accuracy: 0.8641 - val_loss: 0.6617 - val_accuracy: 0.7931\n",
      "Epoch 98/150\n",
      "1563/1563 [==============================] - 170s 109ms/step - loss: 0.3722 - accuracy: 0.8672 - val_loss: 0.6323 - val_accuracy: 0.7953\n",
      "Epoch 99/150\n",
      "1563/1563 [==============================] - 171s 110ms/step - loss: 0.3712 - accuracy: 0.8673 - val_loss: 0.6355 - val_accuracy: 0.7966\n",
      "Epoch 100/150\n",
      "1563/1563 [==============================] - 172s 110ms/step - loss: 0.3641 - accuracy: 0.8692 - val_loss: 0.5969 - val_accuracy: 0.8091\n",
      "Epoch 101/150\n",
      "1563/1563 [==============================] - 172s 110ms/step - loss: 0.3648 - accuracy: 0.8679 - val_loss: 0.6285 - val_accuracy: 0.7995\n",
      "Epoch 102/150\n",
      "1563/1563 [==============================] - 171s 110ms/step - loss: 0.3716 - accuracy: 0.8686 - val_loss: 0.6556 - val_accuracy: 0.7981\n",
      "Epoch 103/150\n",
      "1563/1563 [==============================] - 172s 110ms/step - loss: 0.3790 - accuracy: 0.8640 - val_loss: 0.6232 - val_accuracy: 0.8005\n",
      "Epoch 104/150\n",
      "1563/1563 [==============================] - 171s 109ms/step - loss: 0.3711 - accuracy: 0.8667 - val_loss: 0.6082 - val_accuracy: 0.8076\n",
      "Epoch 105/150\n",
      "1563/1563 [==============================] - 158s 101ms/step - loss: 0.3664 - accuracy: 0.8689 - val_loss: 0.6269 - val_accuracy: 0.8016\n",
      "Epoch 106/150\n",
      "1563/1563 [==============================] - 158s 101ms/step - loss: 0.3654 - accuracy: 0.8695 - val_loss: 0.6019 - val_accuracy: 0.8064\n",
      "Epoch 107/150\n",
      "1563/1563 [==============================] - 157s 101ms/step - loss: 0.3630 - accuracy: 0.8707 - val_loss: 0.6113 - val_accuracy: 0.8043\n",
      "Epoch 108/150\n",
      "1563/1563 [==============================] - 158s 101ms/step - loss: 0.3632 - accuracy: 0.8693 - val_loss: 0.6183 - val_accuracy: 0.8044\n",
      "Epoch 109/150\n",
      "1563/1563 [==============================] - 157s 101ms/step - loss: 0.3594 - accuracy: 0.8735 - val_loss: 0.6361 - val_accuracy: 0.7947\n",
      "Epoch 110/150\n",
      "1563/1563 [==============================] - 157s 101ms/step - loss: 0.3589 - accuracy: 0.8709 - val_loss: 0.6395 - val_accuracy: 0.8002\n",
      "Epoch 111/150\n",
      "1563/1563 [==============================] - 157s 101ms/step - loss: 0.3563 - accuracy: 0.8717 - val_loss: 0.6374 - val_accuracy: 0.7996\n",
      "Epoch 112/150\n",
      "1563/1563 [==============================] - 157s 100ms/step - loss: 0.3595 - accuracy: 0.8707 - val_loss: 0.6328 - val_accuracy: 0.7961\n",
      "Epoch 113/150\n",
      "1563/1563 [==============================] - 157s 101ms/step - loss: 0.3598 - accuracy: 0.8745 - val_loss: 0.6295 - val_accuracy: 0.8051\n",
      "Epoch 114/150\n",
      "1563/1563 [==============================] - 157s 100ms/step - loss: 0.3653 - accuracy: 0.8706 - val_loss: 0.5960 - val_accuracy: 0.8106\n",
      "Epoch 115/150\n",
      "1563/1563 [==============================] - 157s 100ms/step - loss: 0.3442 - accuracy: 0.8769 - val_loss: 0.6293 - val_accuracy: 0.8049\n",
      "Epoch 116/150\n",
      "1563/1563 [==============================] - 157s 100ms/step - loss: 0.3460 - accuracy: 0.8748 - val_loss: 0.6203 - val_accuracy: 0.8019\n",
      "Epoch 117/150\n",
      "1563/1563 [==============================] - 157s 101ms/step - loss: 0.3538 - accuracy: 0.8735 - val_loss: 0.6202 - val_accuracy: 0.8059\n",
      "Epoch 118/150\n",
      "1563/1563 [==============================] - 157s 101ms/step - loss: 0.3479 - accuracy: 0.8765 - val_loss: 0.6346 - val_accuracy: 0.8011\n",
      "Epoch 119/150\n",
      "1563/1563 [==============================] - 157s 101ms/step - loss: 0.3550 - accuracy: 0.8750 - val_loss: 0.6204 - val_accuracy: 0.7988\n",
      "Epoch 120/150\n",
      "1563/1563 [==============================] - 157s 101ms/step - loss: 0.3497 - accuracy: 0.8746 - val_loss: 0.6306 - val_accuracy: 0.8018\n",
      "Epoch 121/150\n",
      "1563/1563 [==============================] - 157s 101ms/step - loss: 0.3479 - accuracy: 0.8745 - val_loss: 0.6129 - val_accuracy: 0.8080\n",
      "Epoch 122/150\n",
      "1563/1563 [==============================] - 157s 101ms/step - loss: 0.3435 - accuracy: 0.8753 - val_loss: 0.6189 - val_accuracy: 0.8074\n",
      "Epoch 123/150\n",
      "1563/1563 [==============================] - 157s 101ms/step - loss: 0.3469 - accuracy: 0.8764 - val_loss: 0.6319 - val_accuracy: 0.8031\n",
      "Epoch 124/150\n",
      "1563/1563 [==============================] - 157s 101ms/step - loss: 0.3504 - accuracy: 0.8758 - val_loss: 0.6265 - val_accuracy: 0.8023\n",
      "Epoch 125/150\n",
      "1563/1563 [==============================] - 157s 101ms/step - loss: 0.3406 - accuracy: 0.8780 - val_loss: 0.6128 - val_accuracy: 0.8070\n",
      "Epoch 126/150\n",
      "1563/1563 [==============================] - 157s 101ms/step - loss: 0.3459 - accuracy: 0.8766 - val_loss: 0.6170 - val_accuracy: 0.8068\n",
      "Epoch 127/150\n",
      "1563/1563 [==============================] - 157s 101ms/step - loss: 0.3546 - accuracy: 0.8729 - val_loss: 0.6340 - val_accuracy: 0.8013\n",
      "Epoch 128/150\n",
      "1563/1563 [==============================] - 157s 101ms/step - loss: 0.3368 - accuracy: 0.8770 - val_loss: 0.6067 - val_accuracy: 0.8076\n",
      "Epoch 129/150\n",
      "1563/1563 [==============================] - 157s 101ms/step - loss: 0.3344 - accuracy: 0.8806 - val_loss: 0.6625 - val_accuracy: 0.7988\n",
      "Epoch 130/150\n",
      "1563/1563 [==============================] - 157s 101ms/step - loss: 0.3433 - accuracy: 0.8774 - val_loss: 0.6272 - val_accuracy: 0.8023\n",
      "Epoch 131/150\n",
      "1563/1563 [==============================] - 157s 101ms/step - loss: 0.3346 - accuracy: 0.8814 - val_loss: 0.6265 - val_accuracy: 0.8081\n",
      "Epoch 132/150\n",
      "1563/1563 [==============================] - 157s 101ms/step - loss: 0.3370 - accuracy: 0.8798 - val_loss: 0.6100 - val_accuracy: 0.8090\n",
      "Epoch 133/150\n",
      "1563/1563 [==============================] - 157s 101ms/step - loss: 0.3398 - accuracy: 0.8763 - val_loss: 0.6404 - val_accuracy: 0.8022\n",
      "Epoch 134/150\n",
      "1563/1563 [==============================] - 158s 101ms/step - loss: 0.3352 - accuracy: 0.8798 - val_loss: 0.6297 - val_accuracy: 0.8019\n",
      "Epoch 135/150\n",
      "1563/1563 [==============================] - 157s 101ms/step - loss: 0.3367 - accuracy: 0.8804 - val_loss: 0.6605 - val_accuracy: 0.7999\n",
      "Epoch 136/150\n",
      "1563/1563 [==============================] - 157s 101ms/step - loss: 0.3335 - accuracy: 0.8786 - val_loss: 0.6115 - val_accuracy: 0.8095\n",
      "Epoch 137/150\n",
      "1563/1563 [==============================] - 157s 101ms/step - loss: 0.3291 - accuracy: 0.8820 - val_loss: 0.6656 - val_accuracy: 0.7927\n",
      "Epoch 138/150\n",
      "1563/1563 [==============================] - 158s 101ms/step - loss: 0.3298 - accuracy: 0.8835 - val_loss: 0.6347 - val_accuracy: 0.8012\n",
      "Epoch 139/150\n",
      "1563/1563 [==============================] - 157s 101ms/step - loss: 0.3320 - accuracy: 0.8805 - val_loss: 0.6125 - val_accuracy: 0.8107\n",
      "Epoch 140/150\n",
      "1563/1563 [==============================] - 157s 101ms/step - loss: 0.3374 - accuracy: 0.8800 - val_loss: 0.6238 - val_accuracy: 0.8045\n",
      "Epoch 141/150\n",
      "1563/1563 [==============================] - 158s 101ms/step - loss: 0.3321 - accuracy: 0.8804 - val_loss: 0.6924 - val_accuracy: 0.7942\n",
      "Epoch 142/150\n",
      "1563/1563 [==============================] - 157s 101ms/step - loss: 0.3336 - accuracy: 0.8805 - val_loss: 0.6508 - val_accuracy: 0.7964\n",
      "Epoch 143/150\n",
      "1563/1563 [==============================] - 157s 101ms/step - loss: 0.3323 - accuracy: 0.8825 - val_loss: 0.6446 - val_accuracy: 0.8008\n",
      "Epoch 144/150\n",
      "1563/1563 [==============================] - 157s 101ms/step - loss: 0.3346 - accuracy: 0.8784 - val_loss: 0.6789 - val_accuracy: 0.7885\n",
      "Epoch 145/150\n",
      "1563/1563 [==============================] - 157s 101ms/step - loss: 0.3261 - accuracy: 0.8850 - val_loss: 0.6229 - val_accuracy: 0.8110\n",
      "Epoch 146/150\n",
      "1563/1563 [==============================] - 159s 101ms/step - loss: 0.3321 - accuracy: 0.8812 - val_loss: 0.6123 - val_accuracy: 0.8061\n",
      "Epoch 147/150\n",
      "1563/1563 [==============================] - 159s 102ms/step - loss: 0.3294 - accuracy: 0.8818 - val_loss: 0.6736 - val_accuracy: 0.7988\n",
      "Epoch 148/150\n",
      "1563/1563 [==============================] - 159s 102ms/step - loss: 0.3287 - accuracy: 0.8825 - val_loss: 0.6277 - val_accuracy: 0.8053\n",
      "Epoch 149/150\n",
      "1563/1563 [==============================] - 159s 102ms/step - loss: 0.3220 - accuracy: 0.8843 - val_loss: 0.6224 - val_accuracy: 0.8061\n",
      "Epoch 150/150\n",
      "1563/1563 [==============================] - 159s 102ms/step - loss: 0.3336 - accuracy: 0.8822 - val_loss: 0.6213 - val_accuracy: 0.8104\n",
      "313/313 [==============================] - 6s 20ms/step - loss: 0.6213 - accuracy: 0.8104\n",
      "[1.7145723e-05 6.0404477e-07 2.4637082e-05 9.4832963e-01 1.3784046e-07 3.7560370e-02 1.3888905e-02 1.3109286e-07 1.7210524e-04 6.3471134e-06]\n",
      "[3]\n"
     ]
    }
   ],
   "source": [
    "model = tf.keras.models.Sequential()\n",
    "model.add(tf.keras.layers.Conv2D(filters=32,kernel_size=3,padding=\"same\", activation=\"relu\", input_shape=[32,32,3]))\n",
    "model.add(tf.keras.layers.BatchNormalization())\n",
    "model.add(tf.keras.layers.Conv2D(32, (3, 3), padding='same'))\n",
    "model.add(tf.keras.layers.BatchNormalization())\n",
    "model.add(tf.keras.layers.MaxPooling2D(pool_size=(2,2)))\n",
    "model.add(tf.keras.layers.Dropout(0.2))\n",
    " \n",
    "model.add(tf.keras.layers.Conv2D(64, (3, 3), padding='same'))\n",
    "model.add(tf.keras.layers.BatchNormalization())\n",
    "model.add(tf.keras.layers.Conv2D(64, (3, 3), padding='same'))\n",
    "model.add(tf.keras.layers.BatchNormalization())\n",
    "model.add(tf.keras.layers.MaxPooling2D(pool_size=(2,2)))\n",
    "model.add(tf.keras.layers.Dropout(0.3))\n",
    " \n",
    "model.add(tf.keras.layers.Conv2D(128, (3, 3), padding='same'))\n",
    "model.add(tf.keras.layers.BatchNormalization())\n",
    "model.add(tf.keras.layers.Conv2D(128, (3, 3), padding='same'))\n",
    "model.add(tf.keras.layers.BatchNormalization())\n",
    "model.add(tf.keras.layers.MaxPooling2D(pool_size=(2,2)))\n",
    "model.add(tf.keras.layers.Dropout(0.4))\n",
    "model.add(tf.keras.layers.Flatten())\n",
    "\n",
    "model.add(tf.keras.layers.Dense(10,activation='softmax'))\n",
    "\n",
    "\n",
    "model.compile(optimizer = 'adam',\n",
    "              loss = 'sparse_categorical_crossentropy',metrics = 'accuracy')\n",
    "\n",
    "history = model.fit(X_train, y_train, epochs=150, validation_data=(X_test, y_test))\n",
    "\n",
    "scores = model.evaluate(X_test, y_test)\n",
    "\n",
    "classifications = model.predict(X_test)\n",
    "\n",
    "print(classifications[0])\n",
    "print(y_test[0])"
   ]
  },
  {
   "cell_type": "code",
   "execution_count": 36,
   "metadata": {},
   "outputs": [
    {
     "name": "stdout",
     "output_type": "stream",
     "text": [
      "Train Accuracy: 0.9708\n",
      "Test Accuracy:  0.8104\n"
     ]
    }
   ],
   "source": [
    "train_loss, train_accuracy = model.evaluate(X_train, y_train, verbose = False)\n",
    "print(\"Train Accuracy: {:.4f}\".format(train_accuracy))\n",
    "\n",
    "test_loss, test_accuracy = model.evaluate(X_test, y_test, verbose = False)\n",
    "print(\"Test Accuracy:  {:.4f}\".format(test_accuracy))\n"
   ]
  },
  {
   "cell_type": "code",
   "execution_count": 36,
   "metadata": {},
   "outputs": [],
   "source": [
    "# saving the model\n",
    "model.save('final_model.h5')"
   ]
  },
  {
   "cell_type": "code",
   "execution_count": 41,
   "metadata": {},
   "outputs": [
    {
     "data": {
      "text/plain": [
       "array([1.0601764e-03, 7.9024434e-01, 1.2586027e-09, 6.4463929e-12, 9.4841358e-14, 5.4722187e-14, 1.0481606e-11, 1.2892441e-12, 2.0837715e-01, 3.1835851e-04], dtype=float32)"
      ]
     },
     "execution_count": 41,
     "metadata": {},
     "output_type": "execute_result"
    }
   ],
   "source": [
    "import keras\n",
    "model = keras.models.load_model('final_model.h5')\n",
    "classifications = model.predict(X_test)\n",
    "classifications[1]"
   ]
  },
  {
   "cell_type": "code",
   "execution_count": 35,
   "metadata": {},
   "outputs": [
    {
     "data": {
      "image/png": "[encoded data removed]",
      "text/plain": [
       "<Figure size 432x288 with 1 Axes>"
      ]
     },
     "metadata": {
      "needs_background": "light"
     },
     "output_type": "display_data"
    }
   ],
   "source": [
    "import keras\n",
    "from matplotlib import pyplot as plt\n",
    "# history = model1.fit(train_x, train_y,validation_split = 0.1, epochs=50, batch_size=4)\n",
    "plt.plot(history.history['accuracy'])\n",
    "plt.plot(history.history['val_accuracy'])\n",
    "plt.title('model accuracy')\n",
    "plt.ylabel('accuracy')\n",
    "plt.xlabel('epoch')\n",
    "plt.legend(['train', 'validation'], loc='upper left')\n",
    "plt.show()"
   ]
  }
 ],
 "metadata": {
  "kernelspec": {
   "display_name": "Python 3",
   "language": "python",
   "name": "python3"
  },
  "language_info": {
   "codemirror_mode": {
    "name": "ipython",
    "version": 3
   },
   "file_extension": ".py",
   "mimetype": "text/x-python",
   "name": "python",
   "nbconvert_exporter": "python",
   "pygments_lexer": "ipython3",
   "version": "3.8.5"
  }
 },
 "nbformat": 4,
 "nbformat_minor": 4
}
